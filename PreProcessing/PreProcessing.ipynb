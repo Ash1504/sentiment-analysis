{
 "cells": [
  {
   "cell_type": "code",
   "execution_count": 1,
   "id": "b362b021",
   "metadata": {},
   "outputs": [],
   "source": [
    "import re\n",
    "import math\n",
    "import string\n",
    "import pandas as pd\n",
    "import numpy as np\n",
    "import contractions\n",
    "import nltk\n",
    "from nltk.corpus import stopwords\n",
    "from nltk.stem import WordNetLemmatizer"
   ]
  },
  {
   "cell_type": "code",
   "execution_count": 27,
   "id": "51df442c",
   "metadata": {},
   "outputs": [],
   "source": [
    "df = pd.read_csv(\"extracted_data.csv\")"
   ]
  },
  {
   "cell_type": "code",
   "execution_count": 31,
   "id": "9f2c14a4",
   "metadata": {},
   "outputs": [
    {
     "data": {
      "text/plain": [
       "Drug_Name               0\n",
       "Patient_Review          0\n",
       "Ratings                 0\n",
       "Condition               3\n",
       "Dosage                  0\n",
       "Other_conditions     1848\n",
       "Other_drugs_taken    1851\n",
       "Benefits               50\n",
       "Side_effects          212\n",
       "Comments               32\n",
       "dtype: int64"
      ]
     },
     "execution_count": 31,
     "metadata": {},
     "output_type": "execute_result"
    }
   ],
   "source": [
    "df.isnull().sum()"
   ]
  },
  {
   "cell_type": "code",
   "execution_count": 32,
   "id": "bb13df8b",
   "metadata": {},
   "outputs": [
    {
     "data": {
      "text/html": [
       "<div>\n",
       "<style scoped>\n",
       "    .dataframe tbody tr th:only-of-type {\n",
       "        vertical-align: middle;\n",
       "    }\n",
       "\n",
       "    .dataframe tbody tr th {\n",
       "        vertical-align: top;\n",
       "    }\n",
       "\n",
       "    .dataframe thead th {\n",
       "        text-align: right;\n",
       "    }\n",
       "</style>\n",
       "<table border=\"1\" class=\"dataframe\">\n",
       "  <thead>\n",
       "    <tr style=\"text-align: right;\">\n",
       "      <th></th>\n",
       "      <th>drug_name</th>\n",
       "      <th>patient_review</th>\n",
       "      <th>ratings</th>\n",
       "      <th>condition</th>\n",
       "      <th>dosage</th>\n",
       "      <th>other_conditions</th>\n",
       "      <th>other_drugs_taken</th>\n",
       "      <th>benefits</th>\n",
       "      <th>side_effects</th>\n",
       "      <th>comments</th>\n",
       "    </tr>\n",
       "  </thead>\n",
       "  <tbody>\n",
       "    <tr>\n",
       "      <th>0</th>\n",
       "      <td>abilify</td>\n",
       "      <td>abilify review by  26 year old female patient</td>\n",
       "      <td>3</td>\n",
       "      <td>bipolar disorder</td>\n",
       "      <td>15mg  taken daily for the period of 12 weeks</td>\n",
       "      <td>NaN</td>\n",
       "      <td>cymbalta, 90mg/daily</td>\n",
       "      <td>i didn't notice any benefit at all. supposedly...</td>\n",
       "      <td>a very uncomfortable inner restlessness was th...</td>\n",
       "      <td>i was prescribed abilify (15mg/daily) to assis...</td>\n",
       "    </tr>\n",
       "    <tr>\n",
       "      <th>1</th>\n",
       "      <td>abilify</td>\n",
       "      <td>abilify review by  29 year old female patient</td>\n",
       "      <td>8</td>\n",
       "      <td>bipolar</td>\n",
       "      <td>10mg  taken 1/day for the period of 8 mos</td>\n",
       "      <td>bipolar mood disorder, acne, asthma</td>\n",
       "      <td>zoloft, wellbutrin, clozepam, tretinoin, clind...</td>\n",
       "      <td>i had severe depression with agitation and mix...</td>\n",
       "      <td>i became drowsy, however, with adequate sleep ...</td>\n",
       "      <td>the abilify decreased the need for daily klono...</td>\n",
       "    </tr>\n",
       "    <tr>\n",
       "      <th>2</th>\n",
       "      <td>abilify</td>\n",
       "      <td>abilify review by  43 year old female patient</td>\n",
       "      <td>10</td>\n",
       "      <td>depressionxiety</td>\n",
       "      <td>2 mg  taken daily for the period of 3 months</td>\n",
       "      <td>anxiety</td>\n",
       "      <td>lexapro</td>\n",
       "      <td>within 1 week of taking the cocktail of abilif...</td>\n",
       "      <td>no side effects have been noticed</td>\n",
       "      <td>i take one pill of each 1st thing in the am......</td>\n",
       "    </tr>\n",
       "    <tr>\n",
       "      <th>3</th>\n",
       "      <td>abilify</td>\n",
       "      <td>abilify review by  50 year old female patient</td>\n",
       "      <td>2</td>\n",
       "      <td>depression not resolved with antidepressant drugs</td>\n",
       "      <td>started out at 5mg the 10 &amp; last 15mg  taken d...</td>\n",
       "      <td>add, depression, poss. bipolar type 2, ptsd, a...</td>\n",
       "      <td>vyvance, ativan lisinopril, zantac, viville do...</td>\n",
       "      <td>while on abilify i can honestly say the depres...</td>\n",
       "      <td>but it caused memory loss and again an inciden...</td>\n",
       "      <td>i am only taking ativan &amp; getting psychologica...</td>\n",
       "    </tr>\n",
       "    <tr>\n",
       "      <th>4</th>\n",
       "      <td>abilify</td>\n",
       "      <td>abilify review by  50 year old male patient</td>\n",
       "      <td>2</td>\n",
       "      <td>bipolar</td>\n",
       "      <td>2mg to start  taken once daily for the period ...</td>\n",
       "      <td>anxiety</td>\n",
       "      <td>klonopin</td>\n",
       "      <td>due to the short time taking drug.</td>\n",
       "      <td>headache first morning at 4am that was relieve...</td>\n",
       "      <td>not much to tell.  i was just starting treatme...</td>\n",
       "    </tr>\n",
       "  </tbody>\n",
       "</table>\n",
       "</div>"
      ],
      "text/plain": [
       "  drug_name                                 patient_review  ratings  \\\n",
       "0   abilify  abilify review by  26 year old female patient        3   \n",
       "1   abilify  abilify review by  29 year old female patient        8   \n",
       "2   abilify  abilify review by  43 year old female patient       10   \n",
       "3   abilify  abilify review by  50 year old female patient        2   \n",
       "4   abilify    abilify review by  50 year old male patient        2   \n",
       "\n",
       "                                           condition  \\\n",
       "0                                   bipolar disorder   \n",
       "1                                            bipolar   \n",
       "2                                    depressionxiety   \n",
       "3  depression not resolved with antidepressant drugs   \n",
       "4                                            bipolar   \n",
       "\n",
       "                                              dosage  \\\n",
       "0       15mg  taken daily for the period of 12 weeks   \n",
       "1          10mg  taken 1/day for the period of 8 mos   \n",
       "2       2 mg  taken daily for the period of 3 months   \n",
       "3  started out at 5mg the 10 & last 15mg  taken d...   \n",
       "4  2mg to start  taken once daily for the period ...   \n",
       "\n",
       "                                    other_conditions  \\\n",
       "0                                                NaN   \n",
       "1                bipolar mood disorder, acne, asthma   \n",
       "2                                            anxiety   \n",
       "3  add, depression, poss. bipolar type 2, ptsd, a...   \n",
       "4                                            anxiety   \n",
       "\n",
       "                                   other_drugs_taken  \\\n",
       "0                               cymbalta, 90mg/daily   \n",
       "1  zoloft, wellbutrin, clozepam, tretinoin, clind...   \n",
       "2                                            lexapro   \n",
       "3  vyvance, ativan lisinopril, zantac, viville do...   \n",
       "4                                           klonopin   \n",
       "\n",
       "                                            benefits  \\\n",
       "0  i didn't notice any benefit at all. supposedly...   \n",
       "1  i had severe depression with agitation and mix...   \n",
       "2  within 1 week of taking the cocktail of abilif...   \n",
       "3  while on abilify i can honestly say the depres...   \n",
       "4                 due to the short time taking drug.   \n",
       "\n",
       "                                        side_effects  \\\n",
       "0  a very uncomfortable inner restlessness was th...   \n",
       "1  i became drowsy, however, with adequate sleep ...   \n",
       "2                  no side effects have been noticed   \n",
       "3  but it caused memory loss and again an inciden...   \n",
       "4  headache first morning at 4am that was relieve...   \n",
       "\n",
       "                                            comments  \n",
       "0  i was prescribed abilify (15mg/daily) to assis...  \n",
       "1  the abilify decreased the need for daily klono...  \n",
       "2  i take one pill of each 1st thing in the am......  \n",
       "3  i am only taking ativan & getting psychologica...  \n",
       "4  not much to tell.  i was just starting treatme...  "
      ]
     },
     "execution_count": 32,
     "metadata": {},
     "output_type": "execute_result"
    }
   ],
   "source": [
    "#lower the dataframe columns\n",
    "df.columns = [cols.lower() for cols in df.columns ]\n",
    "df.head()"
   ]
  },
  {
   "cell_type": "markdown",
   "id": "dee6a31c",
   "metadata": {},
   "source": [
    "# Deriving new columns"
   ]
  },
  {
   "cell_type": "code",
   "execution_count": 33,
   "id": "4485693a",
   "metadata": {},
   "outputs": [],
   "source": [
    "# create age and gender of the patient reviweing the drug\n",
    "def age(x):\n",
    "    return re.findall(\"\\d+\",x)[0]\n",
    "\n",
    "def gender(x):\n",
    "    return 'female' if 'female' in x else 'male'\n",
    "\n",
    "df['age'] = df['patient_review'].apply(lambda x:age(x))\n",
    "df['gender'] = df['patient_review'].apply(lambda x:gender(x))\n",
    "\n",
    "# get ratings sentiment\n",
    "def rating_sentiment(x):\n",
    "    if x<4:\n",
    "        return \"negative\"\n",
    "    elif 4<=x<=6:\n",
    "        return \"neutral\"\n",
    "    else:\n",
    "        return \"positive\"\n",
    "    \n",
    "df['rating_sentiment'] = df['ratings'].apply(lambda x:rating_sentiment(x))"
   ]
  },
  {
   "cell_type": "code",
   "execution_count": 37,
   "id": "92b0d60b",
   "metadata": {},
   "outputs": [
    {
     "data": {
      "text/html": [
       "<div>\n",
       "<style scoped>\n",
       "    .dataframe tbody tr th:only-of-type {\n",
       "        vertical-align: middle;\n",
       "    }\n",
       "\n",
       "    .dataframe tbody tr th {\n",
       "        vertical-align: top;\n",
       "    }\n",
       "\n",
       "    .dataframe thead th {\n",
       "        text-align: right;\n",
       "    }\n",
       "</style>\n",
       "<table border=\"1\" class=\"dataframe\">\n",
       "  <thead>\n",
       "    <tr style=\"text-align: right;\">\n",
       "      <th></th>\n",
       "      <th>ratings</th>\n",
       "      <th>rating_sentiment</th>\n",
       "    </tr>\n",
       "  </thead>\n",
       "  <tbody>\n",
       "    <tr>\n",
       "      <th>0</th>\n",
       "      <td>3</td>\n",
       "      <td>negative</td>\n",
       "    </tr>\n",
       "    <tr>\n",
       "      <th>1</th>\n",
       "      <td>8</td>\n",
       "      <td>positive</td>\n",
       "    </tr>\n",
       "    <tr>\n",
       "      <th>2</th>\n",
       "      <td>10</td>\n",
       "      <td>positive</td>\n",
       "    </tr>\n",
       "    <tr>\n",
       "      <th>3</th>\n",
       "      <td>2</td>\n",
       "      <td>negative</td>\n",
       "    </tr>\n",
       "    <tr>\n",
       "      <th>4</th>\n",
       "      <td>2</td>\n",
       "      <td>negative</td>\n",
       "    </tr>\n",
       "    <tr>\n",
       "      <th>5</th>\n",
       "      <td>6</td>\n",
       "      <td>neutral</td>\n",
       "    </tr>\n",
       "    <tr>\n",
       "      <th>6</th>\n",
       "      <td>8</td>\n",
       "      <td>positive</td>\n",
       "    </tr>\n",
       "    <tr>\n",
       "      <th>7</th>\n",
       "      <td>2</td>\n",
       "      <td>negative</td>\n",
       "    </tr>\n",
       "    <tr>\n",
       "      <th>8</th>\n",
       "      <td>8</td>\n",
       "      <td>positive</td>\n",
       "    </tr>\n",
       "    <tr>\n",
       "      <th>9</th>\n",
       "      <td>7</td>\n",
       "      <td>positive</td>\n",
       "    </tr>\n",
       "  </tbody>\n",
       "</table>\n",
       "</div>"
      ],
      "text/plain": [
       "   ratings rating_sentiment\n",
       "0        3         negative\n",
       "1        8         positive\n",
       "2       10         positive\n",
       "3        2         negative\n",
       "4        2         negative\n",
       "5        6          neutral\n",
       "6        8         positive\n",
       "7        2         negative\n",
       "8        8         positive\n",
       "9        7         positive"
      ]
     },
     "execution_count": 37,
     "metadata": {},
     "output_type": "execute_result"
    }
   ],
   "source": [
    "df[['ratings','rating_sentiment']].head(10)"
   ]
  },
  {
   "cell_type": "markdown",
   "id": "e849c2b3",
   "metadata": {},
   "source": [
    "# Pre Processing Techniques"
   ]
  },
  {
   "cell_type": "code",
   "execution_count": 6,
   "id": "b830f0e0",
   "metadata": {},
   "outputs": [
    {
     "name": "stderr",
     "output_type": "stream",
     "text": [
      "[nltk_data] Downloading package stopwords to\n",
      "[nltk_data]     C:\\Users\\ashis\\AppData\\Roaming\\nltk_data...\n",
      "[nltk_data]   Package stopwords is already up-to-date!\n",
      "[nltk_data] Downloading package wordnet to\n",
      "[nltk_data]     C:\\Users\\ashis\\AppData\\Roaming\\nltk_data...\n",
      "[nltk_data]   Package wordnet is already up-to-date!\n"
     ]
    },
    {
     "data": {
      "text/plain": [
       "True"
      ]
     },
     "execution_count": 6,
     "metadata": {},
     "output_type": "execute_result"
    }
   ],
   "source": [
    "nltk.download('stopwords')\n",
    "nltk.download('wordnet')"
   ]
  },
  {
   "cell_type": "code",
   "execution_count": 7,
   "id": "cc11e82a",
   "metadata": {},
   "outputs": [],
   "source": [
    "def contraction(x):\n",
    "    return contractions.fix(str(x))\n",
    "\n",
    "columns = ['benefits','side_effects','comments']\n",
    "\n",
    "for col in columns:\n",
    "    df[col+'_new'] = df[col].apply(contraction)"
   ]
  },
  {
   "cell_type": "code",
   "execution_count": 8,
   "id": "79967b13",
   "metadata": {},
   "outputs": [
    {
     "name": "stdout",
     "output_type": "stream",
     "text": [
      "Before: \n",
      " i didn't notice any benefit at all. supposedly, it was to help keep my mood balanced.  more than anything, i was focused on the very apparent and prevalent side effects.\n",
      "\n",
      "\n",
      "After: \n",
      " i did not notice any benefit at all. supposedly, it was to help keep my mood balanced.  more than anything, i was focused on the very apparent and prevalent side effects.\n"
     ]
    }
   ],
   "source": [
    "print(\"Before: \\n\",df['benefits'][0])\n",
    "print(\"\\n\\nAfter: \\n\",df['benefits_new'][0])"
   ]
  },
  {
   "cell_type": "code",
   "execution_count": 9,
   "id": "1fa22b6c",
   "metadata": {},
   "outputs": [],
   "source": [
    "stop_words = set(stopwords.words('english'))\n",
    "def remove_stopwords(text):\n",
    "    return \" \".join([word for word in str(text).split() if word not in stop_words])"
   ]
  },
  {
   "cell_type": "code",
   "execution_count": 10,
   "id": "b3c5c236",
   "metadata": {},
   "outputs": [],
   "source": [
    "lemmatizer = WordNetLemmatizer()\n",
    "def lemmatize_words(text):\n",
    "    return \" \".join([lemmatizer.lemmatize(word) for word in text.split()])"
   ]
  },
  {
   "cell_type": "code",
   "execution_count": null,
   "id": "c9c0c7fe",
   "metadata": {},
   "outputs": [],
   "source": [
    "for col in columns:\n",
    "    if df[col].dtype == 'object':\n",
    "        # 1. Lowercasing\n",
    "        df[col+'_new'] = df[col+'_new'].str.lower()\n",
    "        \n",
    "        #2. Remove Punctuations\n",
    "        df[col+'_new'] = df[col+'_new'].apply(lambda x: re.sub('[%s]' % re.escape(string.punctuation), ' ' , str(x)))\n",
    "        \n",
    "        #3. Remove extra whitespaces\n",
    "        df[col+'_new'] = df[col+'_new'].apply(lambda x: re.sub(' +', ' ', x))\n",
    "    \n",
    "        #4. Lemmatization\n",
    "        df[col+'_new'] = df[col+'_new'].apply(lambda x: lemmatize_words(x))"
   ]
  },
  {
   "cell_type": "code",
   "execution_count": 11,
   "id": "3591b5d1",
   "metadata": {},
   "outputs": [],
   "source": [
    "for col in columns:\n",
    "    if df[col].dtype == 'object':\n",
    "        # 1. Lowercasing\n",
    "        df[col+'_new'] = df[col+'_new'].str.lower()\n",
    "        \n",
    "        #2. Remove Punctuations\n",
    "        df[col+'_new'] = df[col+'_new'].apply(lambda x: re.sub('[%s]' % re.escape(string.punctuation), ' ' , str(x)))\n",
    "        \n",
    "        #3. Remove extra whitespaces\n",
    "        df[col+'_new'] = df[col+'_new'].apply(lambda x: re.sub(' +', ' ', x))\n",
    "        \n",
    "        #4. Remove stopwords\n",
    "#         df[col+'_new'] = df[col+'_new'].apply(lambda x: remove_stopwords(x))\n",
    "        # dont use as it is changing the sentiment of sentence\n",
    "    \n",
    "        #5. Lemmatization\n",
    "        df[col+'_new'] = df[col+'_new'].apply(lambda x: lemmatize_words(x))"
   ]
  },
  {
   "cell_type": "code",
   "execution_count": 12,
   "id": "109077eb",
   "metadata": {},
   "outputs": [
    {
     "name": "stdout",
     "output_type": "stream",
     "text": [
      "Before: \n",
      " i didn't notice any benefit at all. supposedly, it was to help keep my mood balanced.  more than anything, i was focused on the very apparent and prevalent side effects.\n",
      "\n",
      "\n",
      "After: \n",
      " i did not notice any benefit at all supposedly it wa to help keep my mood balanced more than anything i wa focused on the very apparent and prevalent side effect\n"
     ]
    }
   ],
   "source": [
    "print(\"Before: \\n\",df['benefits'][0])\n",
    "print(\"\\n\\nAfter: \\n\",df['benefits_new'][0])"
   ]
  },
  {
   "cell_type": "code",
   "execution_count": 19,
   "id": "9544058b",
   "metadata": {},
   "outputs": [],
   "source": [
    "new_df = df[['drug_name','age','gender','condition','dosage','other_conditions','other_drugs_taken','ratings','rating_sentiment','benefits_new','side_effects_new','comments_new']]"
   ]
  },
  {
   "cell_type": "code",
   "execution_count": 21,
   "id": "a8aba90b",
   "metadata": {},
   "outputs": [],
   "source": [
    "new_df.columns = [['drug_name','age','gender','condition','dosage','other_conditions','other_drugs_taken','ratings','rating_sentiment','benefits','side_effects','comments']]"
   ]
  },
  {
   "cell_type": "code",
   "execution_count": 23,
   "id": "4a14c3e8",
   "metadata": {},
   "outputs": [],
   "source": [
    "new_df.to_csv(\"extracted_new.csv\",index=False)"
   ]
  }
 ],
 "metadata": {
  "kernelspec": {
   "display_name": "Python 3 (ipykernel)",
   "language": "python",
   "name": "python3"
  },
  "language_info": {
   "codemirror_mode": {
    "name": "ipython",
    "version": 3
   },
   "file_extension": ".py",
   "mimetype": "text/x-python",
   "name": "python",
   "nbconvert_exporter": "python",
   "pygments_lexer": "ipython3",
   "version": "3.9.7"
  }
 },
 "nbformat": 4,
 "nbformat_minor": 5
}
