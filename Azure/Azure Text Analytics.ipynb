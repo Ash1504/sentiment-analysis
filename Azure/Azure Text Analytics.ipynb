{
 "cells": [
  {
   "cell_type": "code",
   "execution_count": 1,
   "id": "e30e3661",
   "metadata": {},
   "outputs": [],
   "source": [
    "# import required libraries\n",
    "import pandas as pd\n",
    "import re"
   ]
  },
  {
   "cell_type": "code",
   "execution_count": 2,
   "id": "c6603b76",
   "metadata": {},
   "outputs": [],
   "source": [
    "df = pd.read_csv(\"preprocessed_data.csv\")"
   ]
  },
  {
   "cell_type": "code",
   "execution_count": 4,
   "id": "a56d1be8",
   "metadata": {
    "collapsed": true
   },
   "outputs": [
    {
     "name": "stdout",
     "output_type": "stream",
     "text": [
      "Collecting azure-ai-textanalytics\n",
      "  Downloading azure_ai_textanalytics-5.1.0-py2.py3-none-any.whl (153 kB)\n",
      "Collecting azure-common~=1.1\n",
      "  Downloading azure_common-1.1.28-py2.py3-none-any.whl (14 kB)\n",
      "Requirement already satisfied: msrest>=0.6.21 in c:\\users\\ashis\\anaconda3\\lib\\site-packages (from azure-ai-textanalytics) (0.7.1)\n",
      "Requirement already satisfied: six>=1.11.0 in c:\\users\\ashis\\anaconda3\\lib\\site-packages (from azure-ai-textanalytics) (1.16.0)\n",
      "Requirement already satisfied: azure-core<2.0.0,>=1.14.0 in c:\\users\\ashis\\anaconda3\\lib\\site-packages (from azure-ai-textanalytics) (1.24.1)\n",
      "Requirement already satisfied: requests>=2.18.4 in c:\\users\\ashis\\anaconda3\\lib\\site-packages (from azure-core<2.0.0,>=1.14.0->azure-ai-textanalytics) (2.26.0)\n",
      "Requirement already satisfied: typing-extensions>=4.0.1 in c:\\users\\ashis\\anaconda3\\lib\\site-packages (from azure-core<2.0.0,>=1.14.0->azure-ai-textanalytics) (4.2.0)\n",
      "Requirement already satisfied: isodate>=0.6.0 in c:\\users\\ashis\\anaconda3\\lib\\site-packages (from msrest>=0.6.21->azure-ai-textanalytics) (0.6.1)\n",
      "Requirement already satisfied: requests-oauthlib>=0.5.0 in c:\\users\\ashis\\anaconda3\\lib\\site-packages (from msrest>=0.6.21->azure-ai-textanalytics) (1.3.1)\n",
      "Requirement already satisfied: certifi>=2017.4.17 in c:\\users\\ashis\\anaconda3\\lib\\site-packages (from msrest>=0.6.21->azure-ai-textanalytics) (2021.10.8)\n",
      "Requirement already satisfied: urllib3<1.27,>=1.21.1 in c:\\users\\ashis\\anaconda3\\lib\\site-packages (from requests>=2.18.4->azure-core<2.0.0,>=1.14.0->azure-ai-textanalytics) (1.26.7)\n",
      "Requirement already satisfied: charset-normalizer~=2.0.0 in c:\\users\\ashis\\anaconda3\\lib\\site-packages (from requests>=2.18.4->azure-core<2.0.0,>=1.14.0->azure-ai-textanalytics) (2.0.4)\n",
      "Requirement already satisfied: idna<4,>=2.5 in c:\\users\\ashis\\anaconda3\\lib\\site-packages (from requests>=2.18.4->azure-core<2.0.0,>=1.14.0->azure-ai-textanalytics) (3.2)\n",
      "Requirement already satisfied: oauthlib>=3.0.0 in c:\\users\\ashis\\anaconda3\\lib\\site-packages (from requests-oauthlib>=0.5.0->msrest>=0.6.21->azure-ai-textanalytics) (3.2.0)\n",
      "Installing collected packages: azure-common, azure-ai-textanalytics\n",
      "Successfully installed azure-ai-textanalytics-5.1.0 azure-common-1.1.28\n",
      "Note: you may need to restart the kernel to use updated packages.\n"
     ]
    }
   ],
   "source": [
    "pip install azure-ai-textanalytics"
   ]
  },
  {
   "cell_type": "code",
   "execution_count": 3,
   "id": "d491c89b",
   "metadata": {},
   "outputs": [],
   "source": [
    "# Load helper files\n",
    "import http.client, urllib.request, urllib.parse, urllib.error, base64\n",
    "import pandas as pd\n",
    "import string\n",
    "import json\n",
    "import pprint\n",
    "import hashlib\n",
    "from colorama import Fore, Back, Style"
   ]
  },
  {
   "cell_type": "code",
   "execution_count": 4,
   "id": "d47fb184",
   "metadata": {},
   "outputs": [],
   "source": [
    "key = \"ffe5ed7d5f3c47288824201fc31144bd\" # \n",
    "endpoint = \"https://bgne-cognitiveservice.cognitiveservices.azure.com/\" "
   ]
  },
  {
   "cell_type": "code",
   "execution_count": 5,
   "id": "0762de3b",
   "metadata": {},
   "outputs": [],
   "source": [
    "# Set the keys and region where the cognitive services are accessed\n",
    "subscription_key = key # \n",
    "cognitive_services_region = endpoint\n",
    "\n",
    "# Set the request headers and parameters\n",
    "headers = {\n",
    "    # Request headers\n",
    "    'Content-Type': 'application/json',\n",
    "    'Ocp-Apim-Subscription-Key':subscription_key\n",
    "}\n",
    "params = urllib.parse.urlencode({\n",
    "  # Request parameters\n",
    "  'showStats': 'false',\n",
    "  'model-version': 'V1',\n",
    "})"
   ]
  },
  {
   "cell_type": "code",
   "execution_count": 6,
   "id": "8d282fe0",
   "metadata": {},
   "outputs": [
    {
     "name": "stdout",
     "output_type": "stream",
     "text": [
      "<azure.ai.textanalytics._text_analytics_client.TextAnalyticsClient object at 0x0000015DD74CF160>\n"
     ]
    }
   ],
   "source": [
    "from azure.ai.textanalytics import TextAnalyticsClient\n",
    "from azure.core.credentials import AzureKeyCredential\n",
    "\n",
    "def authenticate_client():\n",
    "    ta_credential = AzureKeyCredential(key)\n",
    "    text_analytics_client = TextAnalyticsClient(\n",
    "            endpoint=endpoint, \n",
    "            credential=ta_credential)\n",
    "    return text_analytics_client\n",
    "\n",
    "client = authenticate_client()\n",
    "print(client)"
   ]
  },
  {
   "cell_type": "code",
   "execution_count": 36,
   "id": "f3c7fcef",
   "metadata": {},
   "outputs": [],
   "source": [
    "# df['combined_statement'] = df['benefits']+df['side_effects']+df['comments']"
   ]
  },
  {
   "cell_type": "code",
   "execution_count": 7,
   "id": "70cc1387",
   "metadata": {},
   "outputs": [],
   "source": [
    "df.fillna(\"\",inplace=True)"
   ]
  },
  {
   "cell_type": "code",
   "execution_count": 8,
   "id": "628bd56c",
   "metadata": {},
   "outputs": [],
   "source": [
    "def sentiment(df,col):\n",
    "    for i, rows in df.iterrows():\n",
    "        test_data = []\n",
    "        test_data.append(df.loc[i,col].encode(\"utf-8\").decode(\"ascii\", \"ignore\"))\n",
    "        result = client.analyze_sentiment(test_data)\n",
    "        docs = [doc for doc in result if not doc.is_error]\n",
    "        for idx, doc in enumerate(docs):\n",
    "            df.loc[i, col+'_overall_sentiment'] = doc.sentiment\n",
    "            df.loc[i, col+' positive %'] = doc.confidence_scores['positive']\n",
    "            df.loc[i, col+' neutral %'] = doc.confidence_scores['neutral']\n",
    "            df.loc[i, col+' negative %'] = doc.confidence_scores['negative']\n",
    "        "
   ]
  },
  {
   "cell_type": "code",
   "execution_count": 9,
   "id": "32460d53",
   "metadata": {},
   "outputs": [],
   "source": [
    "sentiment(df,'comments')"
   ]
  },
  {
   "cell_type": "code",
   "execution_count": 14,
   "id": "56f22346",
   "metadata": {},
   "outputs": [],
   "source": [
    "df.to_csv(\"sentiments_new.csv\",index=False)"
   ]
  },
  {
   "cell_type": "code",
   "execution_count": 3,
   "id": "343b1bd7",
   "metadata": {},
   "outputs": [],
   "source": [
    "new_df = pd.read_csv(\"sentiment_key_phrases.csv\")"
   ]
  },
  {
   "cell_type": "code",
   "execution_count": 4,
   "id": "2ac5b92d",
   "metadata": {},
   "outputs": [
    {
     "name": "stdout",
     "output_type": "stream",
     "text": [
      "Total number of records in the dataset:  3672\n",
      "Total number of correctly identified rows: 2481\n",
      "Accuracy: 0.6756535947712419\n"
     ]
    }
   ],
   "source": [
    "total = len(new_df)\n",
    "correct = len(new_df[new_df['rating_sentiment'] == new_df['combined_statement_overall_sentiment']])\n",
    "print(\"Total number of records in the dataset: \",len(new_df))\n",
    "print(\"Total number of correctly identified rows:\",len(new_df[new_df['rating_sentiment'] == new_df['combined_statement_overall_sentiment']]))\n",
    "print(\"Accuracy:\",correct/total)"
   ]
  },
  {
   "cell_type": "code",
   "execution_count": null,
   "id": "3c406ffd",
   "metadata": {},
   "outputs": [],
   "source": []
  },
  {
   "cell_type": "code",
   "execution_count": 42,
   "id": "92887e67",
   "metadata": {},
   "outputs": [],
   "source": [
    "col = 'benefits'\n",
    "for i, rows in df.iterrows():\n",
    "    test_data = []\n",
    "    test_data.append(df.loc[i,col])\n",
    "    #print(i)\n",
    "    result = client.extract_key_phrases(test_data)\n",
    "    for idx, doc in enumerate(result):\n",
    "        if not doc.is_error:\n",
    "            df.loc[i, col+'_key_phrases'] = \", \".join(doc.key_phrases)"
   ]
  },
  {
   "cell_type": "code",
   "execution_count": 43,
   "id": "139c98f7",
   "metadata": {},
   "outputs": [],
   "source": [
    "col = 'side_effects'\n",
    "for i, rows in df.iterrows():\n",
    "    test_data = []\n",
    "    test_data.append(df.loc[i,col])\n",
    "    #print(i)\n",
    "    result = client.extract_key_phrases(test_data)\n",
    "    for idx, doc in enumerate(result):\n",
    "        if not doc.is_error:\n",
    "            df.loc[i, col+'_key_phrases'] = \", \".join(doc.key_phrases)"
   ]
  },
  {
   "cell_type": "code",
   "execution_count": 47,
   "id": "0d74ac94",
   "metadata": {},
   "outputs": [],
   "source": [
    "col = 'comments'\n",
    "for i, rows in df.iterrows():\n",
    "    test_data = []\n",
    "    test_data.append(df.loc[i,col])\n",
    "    #print(i)\n",
    "    result = client.extract_key_phrases(test_data)\n",
    "    for idx, doc in enumerate(result):\n",
    "        if not doc.is_error:\n",
    "            df.loc[i, col+'_key_phrases'] = \", \".join(doc.key_phrases)"
   ]
  },
  {
   "cell_type": "code",
   "execution_count": 101,
   "id": "ebfae5b9",
   "metadata": {},
   "outputs": [
    {
     "data": {
      "text/html": [
       "<div>\n",
       "<style scoped>\n",
       "    .dataframe tbody tr th:only-of-type {\n",
       "        vertical-align: middle;\n",
       "    }\n",
       "\n",
       "    .dataframe tbody tr th {\n",
       "        vertical-align: top;\n",
       "    }\n",
       "\n",
       "    .dataframe thead th {\n",
       "        text-align: right;\n",
       "    }\n",
       "</style>\n",
       "<table border=\"1\" class=\"dataframe\">\n",
       "  <thead>\n",
       "    <tr style=\"text-align: right;\">\n",
       "      <th></th>\n",
       "      <th>benefits_key_phrases</th>\n",
       "      <th>side_effects_key_phrases</th>\n",
       "      <th>comments_key_phrases</th>\n",
       "    </tr>\n",
       "  </thead>\n",
       "  <tbody>\n",
       "    <tr>\n",
       "      <th>0</th>\n",
       "      <td>prevalent side effect, benefit, mood, apparent</td>\n",
       "      <td>uncomfortable inner restlessness, worst side e...</td>\n",
       "      <td>debilitating side effect, abilify 15mg, three ...</td>\n",
       "    </tr>\n",
       "    <tr>\n",
       "      <th>1</th>\n",
       "      <td>state bipolar hypomania, severe depression, ag...</td>\n",
       "      <td>adequate sleep, hangover effect, cognitive blu...</td>\n",
       "      <td>daily klonopin, two month, wa goal, several we...</td>\n",
       "    </tr>\n",
       "    <tr>\n",
       "      <th>2</th>\n",
       "      <td>unorganized person, appointment time, daily re...</td>\n",
       "      <td>side effect</td>\n",
       "      <td>one pill, 1st thing, am</td>\n",
       "    </tr>\n",
       "    <tr>\n",
       "      <th>3</th>\n",
       "      <td>abilify, depression</td>\n",
       "      <td>judgement reasoning skill, memory loss, retail...</td>\n",
       "      <td>drug seroquel abilify, psychological therapy, ...</td>\n",
       "    </tr>\n",
       "    <tr>\n",
       "      <th>4</th>\n",
       "      <td>short time, drug</td>\n",
       "      <td>excedrin migraine headache, 4am, vomiting, 14 ...</td>\n",
       "      <td>treatment, klonopin, goal, 30 day</td>\n",
       "    </tr>\n",
       "  </tbody>\n",
       "</table>\n",
       "</div>"
      ],
      "text/plain": [
       "                                benefits_key_phrases  \\\n",
       "0     prevalent side effect, benefit, mood, apparent   \n",
       "1  state bipolar hypomania, severe depression, ag...   \n",
       "2  unorganized person, appointment time, daily re...   \n",
       "3                                abilify, depression   \n",
       "4                                   short time, drug   \n",
       "\n",
       "                            side_effects_key_phrases  \\\n",
       "0  uncomfortable inner restlessness, worst side e...   \n",
       "1  adequate sleep, hangover effect, cognitive blu...   \n",
       "2                                        side effect   \n",
       "3  judgement reasoning skill, memory loss, retail...   \n",
       "4  excedrin migraine headache, 4am, vomiting, 14 ...   \n",
       "\n",
       "                                comments_key_phrases  \n",
       "0  debilitating side effect, abilify 15mg, three ...  \n",
       "1  daily klonopin, two month, wa goal, several we...  \n",
       "2                            one pill, 1st thing, am  \n",
       "3  drug seroquel abilify, psychological therapy, ...  \n",
       "4                  treatment, klonopin, goal, 30 day  "
      ]
     },
     "execution_count": 101,
     "metadata": {},
     "output_type": "execute_result"
    }
   ],
   "source": [
    "df[['benefits_key_phrases','side_effects_key_phrases','comments_key_phrases']].head()"
   ]
  },
  {
   "cell_type": "code",
   "execution_count": 50,
   "id": "257e2f8c",
   "metadata": {},
   "outputs": [],
   "source": [
    "df.to_csv(\"sentiment_key_phrases.csv\",index=False)"
   ]
  },
  {
   "cell_type": "code",
   "execution_count": 51,
   "id": "4fa5833a",
   "metadata": {},
   "outputs": [],
   "source": [
    "new_df = pd.read_csv(\"extracted_data.csv\")"
   ]
  },
  {
   "cell_type": "code",
   "execution_count": 53,
   "id": "d4ce1589",
   "metadata": {},
   "outputs": [
    {
     "name": "stdout",
     "output_type": "stream",
     "text": [
      "<class 'pandas.core.frame.DataFrame'>\n",
      "RangeIndex: 3672 entries, 0 to 3671\n",
      "Data columns (total 10 columns):\n",
      " #   Column             Non-Null Count  Dtype \n",
      "---  ------             --------------  ----- \n",
      " 0   Drug_Name          3672 non-null   object\n",
      " 1   Patient_Review     3672 non-null   object\n",
      " 2   Ratings            3672 non-null   int64 \n",
      " 3   Condition          3669 non-null   object\n",
      " 4   Dosage             3672 non-null   object\n",
      " 5   Other_conditions   1824 non-null   object\n",
      " 6   Other_drugs_taken  1821 non-null   object\n",
      " 7   Benefits           3622 non-null   object\n",
      " 8   Side_effects       3460 non-null   object\n",
      " 9   Comments           3640 non-null   object\n",
      "dtypes: int64(1), object(9)\n",
      "memory usage: 287.0+ KB\n"
     ]
    }
   ],
   "source": [
    "new_df.info()"
   ]
  },
  {
   "cell_type": "code",
   "execution_count": 54,
   "id": "9a8b5e93",
   "metadata": {},
   "outputs": [
    {
     "data": {
      "text/html": [
       "<div>\n",
       "<style scoped>\n",
       "    .dataframe tbody tr th:only-of-type {\n",
       "        vertical-align: middle;\n",
       "    }\n",
       "\n",
       "    .dataframe tbody tr th {\n",
       "        vertical-align: top;\n",
       "    }\n",
       "\n",
       "    .dataframe thead th {\n",
       "        text-align: right;\n",
       "    }\n",
       "</style>\n",
       "<table border=\"1\" class=\"dataframe\">\n",
       "  <thead>\n",
       "    <tr style=\"text-align: right;\">\n",
       "      <th></th>\n",
       "      <th>Ratings</th>\n",
       "    </tr>\n",
       "  </thead>\n",
       "  <tbody>\n",
       "    <tr>\n",
       "      <th>count</th>\n",
       "      <td>3672.000000</td>\n",
       "    </tr>\n",
       "    <tr>\n",
       "      <th>mean</th>\n",
       "      <td>6.912854</td>\n",
       "    </tr>\n",
       "    <tr>\n",
       "      <th>std</th>\n",
       "      <td>2.958908</td>\n",
       "    </tr>\n",
       "    <tr>\n",
       "      <th>min</th>\n",
       "      <td>1.000000</td>\n",
       "    </tr>\n",
       "    <tr>\n",
       "      <th>25%</th>\n",
       "      <td>5.000000</td>\n",
       "    </tr>\n",
       "    <tr>\n",
       "      <th>50%</th>\n",
       "      <td>8.000000</td>\n",
       "    </tr>\n",
       "    <tr>\n",
       "      <th>75%</th>\n",
       "      <td>9.000000</td>\n",
       "    </tr>\n",
       "    <tr>\n",
       "      <th>max</th>\n",
       "      <td>10.000000</td>\n",
       "    </tr>\n",
       "  </tbody>\n",
       "</table>\n",
       "</div>"
      ],
      "text/plain": [
       "           Ratings\n",
       "count  3672.000000\n",
       "mean      6.912854\n",
       "std       2.958908\n",
       "min       1.000000\n",
       "25%       5.000000\n",
       "50%       8.000000\n",
       "75%       9.000000\n",
       "max      10.000000"
      ]
     },
     "execution_count": 54,
     "metadata": {},
     "output_type": "execute_result"
    }
   ],
   "source": [
    "new_df.describe()"
   ]
  },
  {
   "cell_type": "code",
   "execution_count": 55,
   "id": "ed42a986",
   "metadata": {},
   "outputs": [
    {
     "data": {
      "text/html": [
       "<div>\n",
       "<style scoped>\n",
       "    .dataframe tbody tr th:only-of-type {\n",
       "        vertical-align: middle;\n",
       "    }\n",
       "\n",
       "    .dataframe tbody tr th {\n",
       "        vertical-align: top;\n",
       "    }\n",
       "\n",
       "    .dataframe thead th {\n",
       "        text-align: right;\n",
       "    }\n",
       "</style>\n",
       "<table border=\"1\" class=\"dataframe\">\n",
       "  <thead>\n",
       "    <tr style=\"text-align: right;\">\n",
       "      <th></th>\n",
       "      <th>Drug_Name</th>\n",
       "      <th>Patient_Review</th>\n",
       "      <th>Condition</th>\n",
       "      <th>Dosage</th>\n",
       "      <th>Other_conditions</th>\n",
       "      <th>Other_drugs_taken</th>\n",
       "      <th>Benefits</th>\n",
       "      <th>Side_effects</th>\n",
       "      <th>Comments</th>\n",
       "    </tr>\n",
       "  </thead>\n",
       "  <tbody>\n",
       "    <tr>\n",
       "      <th>count</th>\n",
       "      <td>3672</td>\n",
       "      <td>3672</td>\n",
       "      <td>3669</td>\n",
       "      <td>3672</td>\n",
       "      <td>1824</td>\n",
       "      <td>1821</td>\n",
       "      <td>3622</td>\n",
       "      <td>3460</td>\n",
       "      <td>3640</td>\n",
       "    </tr>\n",
       "    <tr>\n",
       "      <th>unique</th>\n",
       "      <td>250</td>\n",
       "      <td>3013</td>\n",
       "      <td>1585</td>\n",
       "      <td>3624</td>\n",
       "      <td>1168</td>\n",
       "      <td>1358</td>\n",
       "      <td>3592</td>\n",
       "      <td>3345</td>\n",
       "      <td>3618</td>\n",
       "    </tr>\n",
       "    <tr>\n",
       "      <th>top</th>\n",
       "      <td>lexapro</td>\n",
       "      <td>synthroid review by  39 year old female patient</td>\n",
       "      <td>depression</td>\n",
       "      <td>500 mg  taken twice a day for the period of 7 ...</td>\n",
       "      <td>depression</td>\n",
       "      <td>synthroid</td>\n",
       "      <td>#NAME?</td>\n",
       "      <td>.</td>\n",
       "      <td>see above</td>\n",
       "    </tr>\n",
       "    <tr>\n",
       "      <th>freq</th>\n",
       "      <td>71</td>\n",
       "      <td>5</td>\n",
       "      <td>287</td>\n",
       "      <td>4</td>\n",
       "      <td>79</td>\n",
       "      <td>25</td>\n",
       "      <td>7</td>\n",
       "      <td>29</td>\n",
       "      <td>7</td>\n",
       "    </tr>\n",
       "  </tbody>\n",
       "</table>\n",
       "</div>"
      ],
      "text/plain": [
       "       Drug_Name                                   Patient_Review   Condition  \\\n",
       "count       3672                                             3672        3669   \n",
       "unique       250                                             3013        1585   \n",
       "top      lexapro  synthroid review by  39 year old female patient  depression   \n",
       "freq          71                                                5         287   \n",
       "\n",
       "                                                   Dosage Other_conditions  \\\n",
       "count                                                3672             1824   \n",
       "unique                                               3624             1168   \n",
       "top     500 mg  taken twice a day for the period of 7 ...       depression   \n",
       "freq                                                    4               79   \n",
       "\n",
       "       Other_drugs_taken Benefits Side_effects   Comments  \n",
       "count               1821     3622         3460       3640  \n",
       "unique              1358     3592         3345       3618  \n",
       "top            synthroid   #NAME?            .  see above  \n",
       "freq                  25        7           29          7  "
      ]
     },
     "execution_count": 55,
     "metadata": {},
     "output_type": "execute_result"
    }
   ],
   "source": [
    "new_df.describe(include=object)"
   ]
  },
  {
   "cell_type": "code",
   "execution_count": 58,
   "id": "0d167ccd",
   "metadata": {},
   "outputs": [
    {
     "data": {
      "text/plain": [
       "250"
      ]
     },
     "execution_count": 58,
     "metadata": {},
     "output_type": "execute_result"
    }
   ],
   "source": [
    "new_df.head()\n"
   ]
  },
  {
   "cell_type": "code",
   "execution_count": 59,
   "id": "4cdad5f5",
   "metadata": {},
   "outputs": [
    {
     "data": {
      "text/plain": [
       "250"
      ]
     },
     "execution_count": 59,
     "metadata": {},
     "output_type": "execute_result"
    }
   ],
   "source": [
    "new_df['Drug_Name'].nunique()"
   ]
  },
  {
   "cell_type": "code",
   "execution_count": 70,
   "id": "1b2089cc",
   "metadata": {
    "scrolled": true
   },
   "outputs": [
    {
     "name": "stdout",
     "output_type": "stream",
     "text": [
      "Top 10 most reviewed drug:\n"
     ]
    },
    {
     "data": {
      "text/plain": [
       "<AxesSubplot:>"
      ]
     },
     "execution_count": 70,
     "metadata": {},
     "output_type": "execute_result"
    },
    {
     "data": {
      "image/png": "[encoded data removed]",
      "text/plain": [
       "<Figure size 432x288 with 1 Axes>"
      ]
     },
     "metadata": {
      "needs_background": "light"
     },
     "output_type": "display_data"
    }
   ],
   "source": [
    "print(\"Top 10 most reviewed drug:\")\n",
    "new_df['Drug_Name'].value_counts()[:10].plot(kind='barh')"
   ]
  },
  {
   "cell_type": "code",
   "execution_count": 71,
   "id": "f3737bb2",
   "metadata": {},
   "outputs": [
    {
     "name": "stdout",
     "output_type": "stream",
     "text": [
      "Top 10 least reviewed drug:\n"
     ]
    },
    {
     "data": {
      "text/plain": [
       "<AxesSubplot:>"
      ]
     },
     "execution_count": 71,
     "metadata": {},
     "output_type": "execute_result"
    },
    {
     "data": {
      "image/png": "[encoded data removed]",
      "text/plain": [
       "<Figure size 432x288 with 1 Axes>"
      ]
     },
     "metadata": {
      "needs_background": "light"
     },
     "output_type": "display_data"
    }
   ],
   "source": [
    "print(\"Top 10 least reviewed drug:\")\n",
    "new_df['Drug_Name'].value_counts()[-10:].plot(kind='barh')"
   ]
  },
  {
   "cell_type": "code",
   "execution_count": 93,
   "id": "f4031686",
   "metadata": {},
   "outputs": [
    {
     "name": "stdout",
     "output_type": "stream",
     "text": [
      "Top 10 average ratings:\n",
      "\n",
      "         Drug_Name    Ratings\n",
      "0       allegra-d   9.000000\n",
      "1     vivelle-dot   9.090909\n",
      "2         innofem   9.200000\n",
      "3          cozaar   9.250000\n",
      "4  armour-thyroid   9.266667\n",
      "5          maxalt   9.400000\n",
      "6         cytomel   9.500000\n",
      "7     sumatriptan   9.500000\n",
      "8         divigel   9.750000\n",
      "9   albuterol-hfa  10.000000\n",
      "\n",
      "--------------------------------------\n",
      "--------------------------------------\n",
      "\n",
      "Bottom 10 average ratings:\n",
      "\n",
      "      Drug_Name   Ratings\n",
      "0      omnicef  1.727273\n",
      "1    risperdal  3.000000\n",
      "2  clindamycin  3.125000\n",
      "3    dexedrine  3.500000\n",
      "4       flagyl  3.500000\n",
      "5       avelox  3.500000\n",
      "6     levaquin  3.750000\n",
      "7     macrobid  3.909091\n",
      "8      solodyn  4.000000\n",
      "9      cleocin  4.250000\n"
     ]
    }
   ],
   "source": [
    "drug_ratings = new_df.groupby(['Drug_Name'],as_index=False).mean().sort_values(by=['Ratings'],ignore_index=True)\n",
    "top10_ratings = drug_ratings.tail(10)\n",
    "bottom10_ratings = drug_ratings.head(10)\n",
    "\n",
    "print(\"Top 10 average ratings:\\n\\n\",top10_ratings.reset_index().drop('index',axis=1))\n",
    "print(\"\\n--------------------------------------\")\n",
    "print(\"--------------------------------------\\n\")\n",
    "print(\"Bottom 10 average ratings:\\n\\n\",bottom10_ratings.reset_index().drop('index',axis=1))"
   ]
  },
  {
   "cell_type": "code",
   "execution_count": 95,
   "id": "3ad5ceff",
   "metadata": {},
   "outputs": [
    {
     "data": {
      "text/plain": [
       "Drug_Name               0\n",
       "Patient_Review          0\n",
       "Ratings                 0\n",
       "Condition               3\n",
       "Dosage                  0\n",
       "Other_conditions     1848\n",
       "Other_drugs_taken    1851\n",
       "Benefits               50\n",
       "Side_effects          212\n",
       "Comments               32\n",
       "dtype: int64"
      ]
     },
     "execution_count": 95,
     "metadata": {},
     "output_type": "execute_result"
    }
   ],
   "source": [
    "new_df.isnull().sum()"
   ]
  },
  {
   "cell_type": "code",
   "execution_count": 97,
   "id": "fdb3d276",
   "metadata": {},
   "outputs": [
    {
     "data": {
      "text/plain": [
       "Drug_Name            0\n",
       "Patient_Review       0\n",
       "Ratings              0\n",
       "Condition            0\n",
       "Dosage               0\n",
       "Other_conditions     0\n",
       "Other_drugs_taken    0\n",
       "Benefits             0\n",
       "Side_effects         0\n",
       "Comments             0\n",
       "dtype: int64"
      ]
     },
     "execution_count": 97,
     "metadata": {},
     "output_type": "execute_result"
    }
   ],
   "source": [
    "new_df.fillna(\"\").isnull().sum()"
   ]
  },
  {
   "cell_type": "code",
   "execution_count": 105,
   "id": "5a8903ee",
   "metadata": {},
   "outputs": [
    {
     "data": {
      "text/html": [
       "<div>\n",
       "<style scoped>\n",
       "    .dataframe tbody tr th:only-of-type {\n",
       "        vertical-align: middle;\n",
       "    }\n",
       "\n",
       "    .dataframe tbody tr th {\n",
       "        vertical-align: top;\n",
       "    }\n",
       "\n",
       "    .dataframe thead th {\n",
       "        text-align: right;\n",
       "    }\n",
       "</style>\n",
       "<table border=\"1\" class=\"dataframe\">\n",
       "  <thead>\n",
       "    <tr style=\"text-align: right;\">\n",
       "      <th></th>\n",
       "      <th>rating_sentiment</th>\n",
       "      <th>combined_statement_overall_sentiment</th>\n",
       "    </tr>\n",
       "  </thead>\n",
       "  <tbody>\n",
       "    <tr>\n",
       "      <th>0</th>\n",
       "      <td>negative</td>\n",
       "      <td>negative</td>\n",
       "    </tr>\n",
       "    <tr>\n",
       "      <th>1</th>\n",
       "      <td>positive</td>\n",
       "      <td>negative</td>\n",
       "    </tr>\n",
       "    <tr>\n",
       "      <th>2</th>\n",
       "      <td>positive</td>\n",
       "      <td>positive</td>\n",
       "    </tr>\n",
       "    <tr>\n",
       "      <th>3</th>\n",
       "      <td>negative</td>\n",
       "      <td>negative</td>\n",
       "    </tr>\n",
       "    <tr>\n",
       "      <th>4</th>\n",
       "      <td>negative</td>\n",
       "      <td>negative</td>\n",
       "    </tr>\n",
       "    <tr>\n",
       "      <th>...</th>\n",
       "      <td>...</td>\n",
       "      <td>...</td>\n",
       "    </tr>\n",
       "    <tr>\n",
       "      <th>3667</th>\n",
       "      <td>negative</td>\n",
       "      <td>negative</td>\n",
       "    </tr>\n",
       "    <tr>\n",
       "      <th>3668</th>\n",
       "      <td>positive</td>\n",
       "      <td>negative</td>\n",
       "    </tr>\n",
       "    <tr>\n",
       "      <th>3669</th>\n",
       "      <td>positive</td>\n",
       "      <td>positive</td>\n",
       "    </tr>\n",
       "    <tr>\n",
       "      <th>3670</th>\n",
       "      <td>neutral</td>\n",
       "      <td>positive</td>\n",
       "    </tr>\n",
       "    <tr>\n",
       "      <th>3671</th>\n",
       "      <td>positive</td>\n",
       "      <td>negative</td>\n",
       "    </tr>\n",
       "  </tbody>\n",
       "</table>\n",
       "<p>3672 rows × 2 columns</p>\n",
       "</div>"
      ],
      "text/plain": [
       "     rating_sentiment combined_statement_overall_sentiment\n",
       "0            negative                             negative\n",
       "1            positive                             negative\n",
       "2            positive                             positive\n",
       "3            negative                             negative\n",
       "4            negative                             negative\n",
       "...               ...                                  ...\n",
       "3667         negative                             negative\n",
       "3668         positive                             negative\n",
       "3669         positive                             positive\n",
       "3670          neutral                             positive\n",
       "3671         positive                             negative\n",
       "\n",
       "[3672 rows x 2 columns]"
      ]
     },
     "execution_count": 105,
     "metadata": {},
     "output_type": "execute_result"
    }
   ],
   "source": [
    "# df[df[\"rating_sentiment\"]!=df[\"combined_statement_overall_sentiment\"]]\n",
    "df[[\"rating_sentiment\",\"combined_statement_overall_sentiment\"]]"
   ]
  },
  {
   "cell_type": "code",
   "execution_count": 114,
   "id": "139edc9c",
   "metadata": {},
   "outputs": [],
   "source": [
    "df[\"compare\"] = df.apply(lambda x: True if x['rating_sentiment'] ==\n",
    "                     x['combined_statement_overall_sentiment'] else False, axis=1)"
   ]
  }
 ],
 "metadata": {
  "kernelspec": {
   "display_name": "Python 3 (ipykernel)",
   "language": "python",
   "name": "python3"
  },
  "language_info": {
   "codemirror_mode": {
    "name": "ipython",
    "version": 3
   },
   "file_extension": ".py",
   "mimetype": "text/x-python",
   "name": "python",
   "nbconvert_exporter": "python",
   "pygments_lexer": "ipython3",
   "version": "3.9.7"
  }
 },
 "nbformat": 4,
 "nbformat_minor": 5
}
